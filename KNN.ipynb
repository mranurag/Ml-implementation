{
 "cells": [
  {
   "cell_type": "code",
   "execution_count": 1,
   "metadata": {
    "collapsed": true
   },
   "outputs": [],
   "source": [
    "import numpy as np\n",
    "import pandas as pd\n",
    "from sklearn.model_selection import train_test_split\n",
    "from sklearn.neighbors import KNeighborsClassifier\n",
    "from sklearn.preprocessing import StandardScaler\n",
    "from sklearn.metrics import confusion_matrix\n",
    "from sklearn.metrics import accuracy_score"
   ]
  },
  {
   "cell_type": "code",
   "execution_count": 5,
   "metadata": {
    "collapsed": true
   },
   "outputs": [],
   "source": [
    "data = pd.read_csv(\"C:\\\\Python\\\\kNN\\\\data.csv\")"
   ]
  },
  {
   "cell_type": "code",
   "execution_count": 6,
   "metadata": {
    "collapsed": false
   },
   "outputs": [
    {
     "name": "stdout",
     "output_type": "stream",
     "text": [
      "       HouseHold Number  Income($000)  Lot size(000s sqft)\n",
      "count         24.000000     24.000000            24.000000\n",
      "mean          12.500000     68.437500            18.950000\n",
      "std            7.071068     19.793144             2.428275\n",
      "min            1.000000     33.000000            14.000000\n",
      "25%            6.750000     52.350000            17.500000\n",
      "50%           12.500000     64.800000            19.000000\n",
      "75%           18.250000     83.100000            20.800000\n",
      "max           24.000000    110.100000            23.600000\n"
     ]
    }
   ],
   "source": [
    "print (data.describe())"
   ]
  },
  {
   "cell_type": "code",
   "execution_count": 7,
   "metadata": {
    "collapsed": true
   },
   "outputs": [],
   "source": [
    "from sklearn.preprocessing import LabelEncoder\n",
    "labelEncoder = LabelEncoder()"
   ]
  },
  {
   "cell_type": "code",
   "execution_count": 9,
   "metadata": {
    "collapsed": false
   },
   "outputs": [],
   "source": [
    "dataVal  =data.values"
   ]
  },
  {
   "cell_type": "code",
   "execution_count": 11,
   "metadata": {
    "collapsed": false
   },
   "outputs": [],
   "source": [
    "X = dataVal[:,1:3]\n",
    "y = dataVal[:,3]"
   ]
  },
  {
   "cell_type": "code",
   "execution_count": 12,
   "metadata": {
    "collapsed": false
   },
   "outputs": [
    {
     "data": {
      "text/plain": [
       "array(['Non Owner', 'Owner', 'Owner', 'Owner', 'Owner', 'Owner', 'Owner',\n",
       "       'Owner', 'Owner', 'Owner', 'Owner', 'Owner', 'Non Owner',\n",
       "       'Non Owner', 'Non Owner', 'Non Owner', 'Non Owner', 'Non Owner',\n",
       "       'Non Owner', 'Non Owner', 'Non Owner', 'Non Owner', 'Non Owner',\n",
       "       'Owner'], dtype=object)"
      ]
     },
     "execution_count": 12,
     "metadata": {},
     "output_type": "execute_result"
    }
   ],
   "source": [
    "y"
   ]
  },
  {
   "cell_type": "code",
   "execution_count": 13,
   "metadata": {
    "collapsed": true
   },
   "outputs": [],
   "source": [
    "labelEncoder  =labelEncoder.fit(y)\n",
    "y_encoded = labelEncoder.transform(y)"
   ]
  },
  {
   "cell_type": "code",
   "execution_count": 14,
   "metadata": {
    "collapsed": false
   },
   "outputs": [
    {
     "data": {
      "text/plain": [
       "array([0, 1, 1, 1, 1, 1, 1, 1, 1, 1, 1, 1, 0, 0, 0, 0, 0, 0, 0, 0, 0, 0, 0,\n",
       "       1], dtype=int64)"
      ]
     },
     "execution_count": 14,
     "metadata": {},
     "output_type": "execute_result"
    }
   ],
   "source": [
    "y_encoded"
   ]
  },
  {
   "cell_type": "code",
   "execution_count": 15,
   "metadata": {
    "collapsed": false
   },
   "outputs": [
    {
     "data": {
      "text/plain": [
       "array([[47.4, 16.4],\n",
       "       [85.5, 16.8],\n",
       "       [64.8, 21.6],\n",
       "       [61.5, 20.8],\n",
       "       [87.0, 23.6],\n",
       "       [60.0, 18.4],\n",
       "       [108.0, 17.6],\n",
       "       [82.8, 22.4],\n",
       "       [69.0, 20.0],\n",
       "       [93.0, 20.8],\n",
       "       [51.0, 22.0],\n",
       "       [81.0, 20.0],\n",
       "       [75.0, 19.6],\n",
       "       [52.8, 20.8],\n",
       "       [64.8, 17.2],\n",
       "       [43.2, 20.4],\n",
       "       [84.0, 17.6],\n",
       "       [49.2, 17.6],\n",
       "       [59.4, 16.0],\n",
       "       [66.0, 18.4],\n",
       "       [33.0, 18.8],\n",
       "       [51.0, 14.0],\n",
       "       [63.0, 14.8],\n",
       "       [110.1, 19.2]], dtype=object)"
      ]
     },
     "execution_count": 15,
     "metadata": {},
     "output_type": "execute_result"
    }
   ],
   "source": [
    "X"
   ]
  },
  {
   "cell_type": "code",
   "execution_count": 16,
   "metadata": {
    "collapsed": true
   },
   "outputs": [],
   "source": [
    "X_Train,X_Text,Y_Train,Y_Test = train_test_split(X,y_encoded,test_size=0.3,random_state=3)"
   ]
  },
  {
   "cell_type": "code",
   "execution_count": 17,
   "metadata": {
    "collapsed": true
   },
   "outputs": [],
   "source": [
    "# knn classifier needs 3 argument\n",
    "#1 - number of kneighbors\n",
    "#2- metric  -minkowski\n",
    "#3 - power which in turn represents the distance metric used e.g ecludian, manhattan etc\n",
    "model = KNeighborsClassifier(n_neighbors=3,metric=\"minkowski\",p=2)\n"
   ]
  },
  {
   "cell_type": "code",
   "execution_count": 18,
   "metadata": {
    "collapsed": false
   },
   "outputs": [
    {
     "data": {
      "text/plain": [
       "KNeighborsClassifier(algorithm='auto', leaf_size=30, metric='minkowski',\n",
       "           metric_params=None, n_jobs=1, n_neighbors=3, p=2,\n",
       "           weights='uniform')"
      ]
     },
     "execution_count": 18,
     "metadata": {},
     "output_type": "execute_result"
    }
   ],
   "source": [
    "#train the model\n",
    "model.fit(X_Train,Y_Train)"
   ]
  },
  {
   "cell_type": "code",
   "execution_count": 29,
   "metadata": {
    "collapsed": false
   },
   "outputs": [],
   "source": [
    "XPred = model.predict(X_Train)\n"
   ]
  },
  {
   "cell_type": "code",
   "execution_count": 32,
   "metadata": {
    "collapsed": false
   },
   "outputs": [
    {
     "data": {
      "text/plain": [
       "array([[4, 2],\n",
       "       [1, 9]], dtype=int64)"
      ]
     },
     "execution_count": 32,
     "metadata": {},
     "output_type": "execute_result"
    }
   ],
   "source": [
    "confusion_matrix(Y_Train,XPred)\n"
   ]
  },
  {
   "cell_type": "code",
   "execution_count": 33,
   "metadata": {
    "collapsed": false
   },
   "outputs": [
    {
     "data": {
      "text/plain": [
       "0.8125"
      ]
     },
     "execution_count": 33,
     "metadata": {},
     "output_type": "execute_result"
    }
   ],
   "source": [
    "accuracy_score(Y_Train,XPred)"
   ]
  },
  {
   "cell_type": "code",
   "execution_count": 34,
   "metadata": {
    "collapsed": true
   },
   "outputs": [],
   "source": [
    "YPred = model.predict(X_Text)"
   ]
  },
  {
   "cell_type": "code",
   "execution_count": 35,
   "metadata": {
    "collapsed": false
   },
   "outputs": [
    {
     "data": {
      "text/plain": [
       "array([[3, 3],\n",
       "       [0, 2]], dtype=int64)"
      ]
     },
     "execution_count": 35,
     "metadata": {},
     "output_type": "execute_result"
    }
   ],
   "source": [
    "confusion_matrix(Y_Test,YPred)\n"
   ]
  },
  {
   "cell_type": "code",
   "execution_count": 36,
   "metadata": {
    "collapsed": false
   },
   "outputs": [
    {
     "data": {
      "text/plain": [
       "0.625"
      ]
     },
     "execution_count": 36,
     "metadata": {},
     "output_type": "execute_result"
    }
   ],
   "source": [
    "accuracy_score(Y_Test,YPred)"
   ]
  },
  {
   "cell_type": "code",
   "execution_count": 37,
   "metadata": {
    "collapsed": false
   },
   "outputs": [
    {
     "name": "stdout",
     "output_type": "stream",
     "text": [
      "1.0\n",
      "0.75\n",
      "0.8125\n",
      "0.625\n",
      "0.8125\n",
      "0.5\n"
     ]
    }
   ],
   "source": [
    "for n in [1,3,5]:\n",
    "    model = KNeighborsClassifier(n_neighbors=n,metric=\"minkowski\",p=2)\n",
    "    model.fit(X_Train,Y_Train)\n",
    "    XPred = model.predict(X_Train)\n",
    "    print (accuracy_score(Y_Train,XPred))\n",
    "    YPred = model.predict(X_Text)\n",
    "    print (accuracy_score(Y_Test,YPred))\n",
    "    \n",
    "\n",
    "    "
   ]
  },
  {
   "cell_type": "code",
   "execution_count": null,
   "metadata": {
    "collapsed": true
   },
   "outputs": [],
   "source": []
  }
 ],
 "metadata": {
  "kernelspec": {
   "display_name": "Python 2",
   "language": "python",
   "name": "python2"
  },
  "language_info": {
   "codemirror_mode": {
    "name": "ipython",
    "version": 2
   },
   "file_extension": ".py",
   "mimetype": "text/x-python",
   "name": "python",
   "nbconvert_exporter": "python",
   "pygments_lexer": "ipython2",
   "version": "2.7.11"
  }
 },
 "nbformat": 4,
 "nbformat_minor": 0
}
